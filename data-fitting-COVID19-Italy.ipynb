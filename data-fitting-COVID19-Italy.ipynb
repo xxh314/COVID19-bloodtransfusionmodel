{
 "cells": [
  {
   "cell_type": "code",
   "execution_count": 1,
   "metadata": {},
   "outputs": [],
   "source": [
    "import pandas as pd\n",
    "import numpy as np\n",
    "import matplotlib.pyplot as plt\n",
    "import math\n",
    "from numpy import linalg\n",
    "from datetime import datetime, timedelta\n",
    "import scipy.optimize as optimization\n",
    "from scipy.integrate import odeint\n",
    "from scipy.stats import poisson\n",
    "from ddeint import ddeint"
   ]
  },
  {
   "cell_type": "code",
   "execution_count": 2,
   "metadata": {},
   "outputs": [],
   "source": [
    "# Please see \"data-tailor-COVID19-Italy\" on how to generate the italydata.csv file.\n",
    "\n",
    "data=pd.read_csv(\"./italydata.csv\",low_memory=False)\n",
    "dataframe=pd.DataFrame(data)"
   ]
  },
  {
   "cell_type": "code",
   "execution_count": 3,
   "metadata": {},
   "outputs": [],
   "source": [
    "# Model parameters for the first outbreak wave.\n",
    "\n",
    "ODEtime1=np.linspace(0,150,151)\n",
    "S0=60.36*10**6\n",
    "L0=3223\n",
    "I0=1500\n",
    "PC0=26\n",
    "PM0=103\n",
    "R0=1\n",
    "rho=1/5.2\n",
    "kappa=1/6\n",
    "p1=0.0378\n",
    "gammapc=0.1\n",
    "gammapm=0.125\n",
    "mupc1=0.2050\n",
    "mupm=0\n",
    "\n",
    "def betafunc1(t):\n",
    "    return 0.12*5.2*math.exp(-0.038*t)/S0"
   ]
  },
  {
   "cell_type": "code",
   "execution_count": 4,
   "metadata": {},
   "outputs": [],
   "source": [
    "# Transmission model for the first outbreak wave.\n",
    "\n",
    "def ODEmodel1(x,tt):\n",
    "    SS,LL,II,PC,PM,DD,CC,RR=x\n",
    "    t=np.floor(tt)\n",
    "    return np.array([-betafunc1(t)*SS*II, betafunc1(t)*SS*II-rho*LL, rho*LL-kappa*II,\n",
    "                    p1*PM-(mupc1+gammapc)*PC, kappa*II-(gammapm+p1)*PM, \n",
    "                    mupc1*PC, kappa*II, gammapm*PM])\n",
    "\n",
    "ODEsol1=odeint(ODEmodel1,(S0,L0,I0,PC0,PM0,2,132,1),ODEtime1)"
   ]
  },
  {
   "cell_type": "code",
   "execution_count": 64,
   "metadata": {},
   "outputs": [],
   "source": [
    "# Model parameters for the second outbreak wave.\n",
    "\n",
    "ODEtime2=np.linspace(210,410,201)\n",
    "S1=60.061844*10**6\n",
    "L1=7277.8\n",
    "I1=1000\n",
    "PC1=222\n",
    "PM1=43876\n",
    "R0=218351\n",
    "rho=1/5.2\n",
    "kappa=1/6\n",
    "p2=0.0038\n",
    "gammapc=0.1\n",
    "gammapm=0.125\n",
    "mupc2=0.1457\n",
    "mupm=0\n",
    "\n",
    "def betafunc2(t):\n",
    "    return 0.12*5.3688*math.exp(-0.025*(t-210))/S1"
   ]
  },
  {
   "cell_type": "code",
   "execution_count": 26,
   "metadata": {},
   "outputs": [],
   "source": [
    "# Transmission model for the second outbreak wave.\n",
    "\n",
    "def ODEmodel2(x,tt):\n",
    "    SS,LL,II,PC,PM,DD,CC=x\n",
    "    t=np.floor(tt)\n",
    "    return np.array([-betafunc035(t)*SS*II, betafunc035(t)*SS*II-rho*LL, rho*LL-kappa*II,\n",
    "                    p2*PM-(mupc2+gammapc)*PC, kappa*II-(gammapm+p2)*PM, \n",
    "                    mupc2*PC, kappa*II])\n",
    "\n",
    "ODEsol2=odeint(ODEmodel2,(S1,L1,I1,PC1,PM1,35707,298156),ODEtime2)"
   ]
  },
  {
   "cell_type": "code",
   "execution_count": null,
   "metadata": {},
   "outputs": [],
   "source": [
    "# Generate newly identified case inflow rate for the blood transfusion model.\n",
    "\n",
    "inflowlist=[]\n",
    "for i in range(0,277):\n",
    "    inflowlist.append(dataframe['daily_case'][i])\n",
    "for i in range(277,410):\n",
    "    inflowlist.append(ODEsol2[i-210,2]*kappa)"
   ]
  }
 ],
 "metadata": {
  "kernelspec": {
   "display_name": "Python 3",
   "language": "python",
   "name": "python3"
  },
  "language_info": {
   "codemirror_mode": {
    "name": "ipython",
    "version": 3
   },
   "file_extension": ".py",
   "mimetype": "text/x-python",
   "name": "python",
   "nbconvert_exporter": "python",
   "pygments_lexer": "ipython3",
   "version": "3.8.3"
  }
 },
 "nbformat": 4,
 "nbformat_minor": 2
}
