{
 "cells": [
  {
   "cell_type": "code",
   "execution_count": 1,
   "metadata": {},
   "outputs": [],
   "source": [
    "import glob\n",
    "import csv"
   ]
  },
  {
   "cell_type": "code",
   "execution_count": 6,
   "metadata": {},
   "outputs": [
    {
     "name": "stdout",
     "output_type": "stream",
     "text": [
      "['./dpc-covid19-ita-regioni-20200224.csv', './dpc-covid19-ita-regioni-20200225.csv', './dpc-covid19-ita-regioni-20200226.csv', './dpc-covid19-ita-regioni-20200227.csv', './dpc-covid19-ita-regioni-20200228.csv']\n",
      "['./dpc-covid19-ita-regioni-20201123.csv', './dpc-covid19-ita-regioni-20201124.csv', './dpc-covid19-ita-regioni-20201125.csv', './dpc-covid19-ita-regioni-20201126.csv', './dpc-covid19-ita-regioni-20201127.csv']\n"
     ]
    }
   ],
   "source": [
    "# Download data from https://github.com/pcm-dpc/COVID-19/tree/master/dati-regioni\n",
    "# We used the daily reported regional data as in file \"dati-regioni\".\n",
    "\n",
    "file_list = sorted(glob.glob(\"./*.csv\"))"
   ]
  },
  {
   "cell_type": "code",
   "execution_count": 17,
   "metadata": {},
   "outputs": [],
   "source": [
    "result = []\n",
    "\n",
    "for file in file_list:\n",
    "    \n",
    "    with open(file) as csv_file:\n",
    "        \n",
    "        daily_record = [0, 0, 0, 0, 0]\n",
    "        \n",
    "        reader = csv.reader(csv_file, delimiter=\",\", quotechar='\"')\n",
    "        next(reader, None)  # skip the headers\n",
    "    \n",
    "        for row in reader:\n",
    "            \n",
    "            icu, daily_case, total_recover, total_death, total_case = row[7], row[12], row[13], row[14], row[17]\n",
    "            \n",
    "            daily_record[0] += int(icu)\n",
    "            daily_record[1] += int(daily_case)\n",
    "            daily_record[2] += int(total_recover)\n",
    "            daily_record[3] += int(total_death)\n",
    "            daily_record[4] += int(total_case)\n",
    "            \n",
    "        daily_record.append(file)\n",
    "        \n",
    "    result.append(daily_record)"
   ]
  },
  {
   "cell_type": "code",
   "execution_count": 25,
   "metadata": {},
   "outputs": [],
   "source": [
    "with open(\"summary.csv\", \"w\") as fp:\n",
    "    \n",
    "    fp.write(\"\\t\".join([\"icu\", \"daily_case\", \"total_recover\", \"total_death\", \"total_case\", \"file_name\"]))\n",
    "    fp.write(\"\\n\") # write header\n",
    "    \n",
    "    for line in result:\n",
    "        \n",
    "        line = [str(i) for i in line]\n",
    "        fp.write(\"\\t\".join(line))\n",
    "        fp.write(\"\\n\")"
   ]
  }
 ],
 "metadata": {
  "kernelspec": {
   "display_name": "Python 3",
   "language": "python",
   "name": "python3"
  },
  "language_info": {
   "codemirror_mode": {
    "name": "ipython",
    "version": 3
   },
   "file_extension": ".py",
   "mimetype": "text/x-python",
   "name": "python",
   "nbconvert_exporter": "python",
   "pygments_lexer": "ipython3",
   "version": "3.8.3"
  }
 },
 "nbformat": 4,
 "nbformat_minor": 2
}
